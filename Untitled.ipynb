{
 "cells": [
  {
   "cell_type": "code",
   "execution_count": 133,
   "metadata": {},
   "outputs": [],
   "source": [
    "path = '/home/inrx/Ironhack/TA/job-search/linkedin-project/job_links/data_analyst_lisbon_links.csv'"
   ]
  },
  {
   "cell_type": "code",
   "execution_count": 112,
   "metadata": {},
   "outputs": [],
   "source": [
    "with open(path, 'rt') as f:\n",
    "    \n",
    "    files = f.read().split(\",\")\n",
    "    \n",
    "#, newline='\\r\\n'    \n",
    "\n",
    "files = [file.strip(\"\\\"\\\"\") for file in files]\n",
    "\n",
    "files2 = []\n",
    "for file in files:\n",
    "    if len(file) > 45:\n",
    "        for second in file.split(\"\\n\"):\n",
    "            files2.append(second.strip(\"\\\"\\\"\"))\n",
    "    else:\n",
    "        files2.append(file)\n",
    "files2 = files2[:-1]"
   ]
  },
  {
   "cell_type": "code",
   "execution_count": 139,
   "metadata": {},
   "outputs": [],
   "source": [
    "with open(path, 'rt') as f:\n",
    "    files = f.read().split(\",\")\n",
    "    \n",
    "#, newline='\\r\\n'    \n",
    "\n",
    "files = [file.strip(\"\\\"\\\"\") for file in files]\n",
    "\n",
    "page_list = []\n",
    "for file in files:\n",
    "    if len(file) > 45:\n",
    "        for second in file.split(\"\\n\"):\n",
    "            page_list.append(second.strip(\"\\\"\\\"\"))\n",
    "    else:\n",
    "        page_list.append(file)\n",
    "page_list = page_list[:-1]"
   ]
  },
  {
   "cell_type": "code",
   "execution_count": 140,
   "metadata": {},
   "outputs": [
    {
     "data": {
      "text/plain": [
       "['https://www.linkedin.com/jobs/view/1579616329',\n",
       " 'https://www.linkedin.com/jobs/view/1544571104',\n",
       " 'https://www.linkedin.com/jobs/view/1600017871',\n",
       " 'https://www.linkedin.com/jobs/view/1557955750',\n",
       " 'https://www.linkedin.com/jobs/view/1566743636',\n",
       " 'https://www.linkedin.com/jobs/view/1560148101',\n",
       " 'https://www.linkedin.com/jobs/view/1509180527',\n",
       " 'https://www.linkedin.com/jobs/view/1565187282',\n",
       " 'https://www.linkedin.com/jobs/view/1582722815',\n",
       " 'https://www.linkedin.com/jobs/view/1598298327',\n",
       " 'https://www.linkedin.com/jobs/view/1561405215',\n",
       " 'https://www.linkedin.com/jobs/view/1453700424',\n",
       " 'https://www.linkedin.com/jobs/view/1607948643',\n",
       " 'https://www.linkedin.com/jobs/view/1485293723',\n",
       " 'https://www.linkedin.com/jobs/view/1587597990',\n",
       " 'https://www.linkedin.com/jobs/view/1516069810',\n",
       " 'https://www.linkedin.com/jobs/view/1391139428',\n",
       " 'https://www.linkedin.com/jobs/view/1605291105',\n",
       " 'https://www.linkedin.com/jobs/view/1486212040',\n",
       " 'https://www.linkedin.com/jobs/view/1566818580',\n",
       " 'https://www.linkedin.com/jobs/view/1591942498',\n",
       " 'https://www.linkedin.com/jobs/view/1591884517',\n",
       " 'https://www.linkedin.com/jobs/view/1566966413',\n",
       " 'https://www.linkedin.com/jobs/view/1506504908',\n",
       " 'https://www.linkedin.com/jobs/view/1603832535']"
      ]
     },
     "execution_count": 140,
     "metadata": {},
     "output_type": "execute_result"
    }
   ],
   "source": [
    "page_list"
   ]
  },
  {
   "cell_type": "code",
   "execution_count": 97,
   "metadata": {},
   "outputs": [
    {
     "data": {
      "text/plain": [
       "'https://www.linkedin.com/jobs/view/1561405215'"
      ]
     },
     "execution_count": 97,
     "metadata": {},
     "output_type": "execute_result"
    }
   ],
   "source": [
    "files[1].strip(\"\\\"\\\"\")"
   ]
  },
  {
   "cell_type": "code",
   "execution_count": 91,
   "metadata": {},
   "outputs": [
    {
     "data": {
      "text/plain": [
       "['\"https://www.linkedin.com/jobs/view/1486212040\"',\n",
       " '\"https://www.linkedin.com/jobs/view/1592152745\"']"
      ]
     },
     "execution_count": 91,
     "metadata": {},
     "output_type": "execute_result"
    }
   ],
   "source": [
    "file[24].split(\"\\n\")"
   ]
  },
  {
   "cell_type": "code",
   "execution_count": 70,
   "metadata": {},
   "outputs": [],
   "source": [
    "f = open('/home/inrx/Ironhack/TA/job-search/linkedin-project/job_links/data_analyst_lisbon_links.csv', 'rt', newline='\\r\\n')"
   ]
  },
  {
   "cell_type": "code",
   "execution_count": 67,
   "metadata": {
    "scrolled": false
   },
   "outputs": [],
   "source": [
    "new = f.read().splitlines()"
   ]
  },
  {
   "cell_type": "code",
   "execution_count": 73,
   "metadata": {},
   "outputs": [
    {
     "data": {
      "text/plain": [
       "''"
      ]
     },
     "execution_count": 73,
     "metadata": {},
     "output_type": "execute_result"
    }
   ],
   "source": [
    "f.read()"
   ]
  },
  {
   "cell_type": "code",
   "execution_count": 72,
   "metadata": {},
   "outputs": [],
   "source": [
    "for n in new:\n",
    "    for s in n:\n",
    "        s.split('\\r\\n')"
   ]
  },
  {
   "cell_type": "code",
   "execution_count": 64,
   "metadata": {},
   "outputs": [
    {
     "data": {
      "text/plain": [
       "['\"https://www.linkedin.com/jobs/view/1579616329\",\"https://www.linkedin.com/jobs/view/1561405215\",\"https://www.linkedin.com/jobs/view/1516069810\",\"https://www.linkedin.com/jobs/view/1391139428\",\"https://www.linkedin.com/jobs/view/1591884517\",\"https://www.linkedin.com/jobs/view/1607948643\",\"https://www.linkedin.com/jobs/view/1582722815\",\"https://www.linkedin.com/jobs/view/1453700424\",\"https://www.linkedin.com/jobs/view/1485293723\",\"https://www.linkedin.com/jobs/view/1506504908\",\"https://www.linkedin.com/jobs/view/1566818580\",\"https://www.linkedin.com/jobs/view/1560148101\",\"https://www.linkedin.com/jobs/view/1587597990\",\"https://www.linkedin.com/jobs/view/1557955750\",\"https://www.linkedin.com/jobs/view/1544571104\",\"https://www.linkedin.com/jobs/view/1598298327\",\"https://www.linkedin.com/jobs/view/1509180527\",\"https://www.linkedin.com/jobs/view/1591942498\",\"https://www.linkedin.com/jobs/view/1565187282\",\"https://www.linkedin.com/jobs/view/1605291105\",\"https://www.linkedin.com/jobs/view/1566743636\",\"https://www.linkedin.com/jobs/view/1603832535\",\"https://www.linkedin.com/jobs/view/1566966413\",\"https://www.linkedin.com/jobs/view/1600017871\",\"https://www.linkedin.com/jobs/view/1486212040\"',\n",
       " '\"https://www.linkedin.com/jobs/view/1592152745\",\"https://www.linkedin.com/jobs/view/1592158802\",\"https://www.linkedin.com/jobs/view/1569124563\",\"https://www.linkedin.com/jobs/view/1573261070\",\"https://www.linkedin.com/jobs/view/1520631610\",\"https://www.linkedin.com/jobs/view/1608140852\",\"https://www.linkedin.com/jobs/view/1587113146\",\"https://www.linkedin.com/jobs/view/1560212520\",\"https://www.linkedin.com/jobs/view/1607948348\",\"https://www.linkedin.com/jobs/view/1573323638\",\"https://www.linkedin.com/jobs/view/1595848884\",\"https://www.linkedin.com/jobs/view/1554495962\",\"https://www.linkedin.com/jobs/view/1519082158\",\"https://www.linkedin.com/jobs/view/1369435612\",\"https://www.linkedin.com/jobs/view/1592164200\",\"https://www.linkedin.com/jobs/view/1608770791\",\"https://www.linkedin.com/jobs/view/1481997189\",\"https://www.linkedin.com/jobs/view/1607966558\",\"https://www.linkedin.com/jobs/view/1523468695\",\"https://www.linkedin.com/jobs/view/1503489850\",\"https://www.linkedin.com/jobs/view/1569126300\",\"https://www.linkedin.com/jobs/view/1585137522\",\"https://www.linkedin.com/jobs/view/1598299930\",\"https://www.linkedin.com/jobs/view/1585149327\",\"https://www.linkedin.com/jobs/view/1537513954\"',\n",
       " '\"https://www.linkedin.com/jobs/view/1574951779\",\"https://www.linkedin.com/jobs/view/1309196537\",\"https://www.linkedin.com/jobs/view/1509179621\",\"https://www.linkedin.com/jobs/view/1596182975\",\"https://www.linkedin.com/jobs/view/1604115339\",\"https://www.linkedin.com/jobs/view/1570851630\",\"https://www.linkedin.com/jobs/view/1592156656\",\"https://www.linkedin.com/jobs/view/1557999855\",\"https://www.linkedin.com/jobs/view/1565185712\",\"https://www.linkedin.com/jobs/view/1562365286\",\"https://www.linkedin.com/jobs/view/1518265957\",\"https://www.linkedin.com/jobs/view/1446114222\",\"https://www.linkedin.com/jobs/view/1598299395\",\"https://www.linkedin.com/jobs/view/1538565928\",\"https://www.linkedin.com/jobs/view/1563353621\",\"https://www.linkedin.com/jobs/view/1608714248\",\"https://www.linkedin.com/jobs/view/1477237358\",\"https://www.linkedin.com/jobs/view/1572643016\",\"https://www.linkedin.com/jobs/view/1581548089\",\"https://www.linkedin.com/jobs/view/1565157782\",\"https://www.linkedin.com/jobs/view/1565171712\",\"https://www.linkedin.com/jobs/view/1419632800\",\"https://www.linkedin.com/jobs/view/1549834425\"',\n",
       " '\"https://www.linkedin.com/jobs/view/1569099548\",\"https://www.linkedin.com/jobs/view/1571296702\",\"https://www.linkedin.com/jobs/view/1606594255\",\"https://www.linkedin.com/jobs/view/1606148646\",\"https://www.linkedin.com/jobs/view/1438279650\",\"https://www.linkedin.com/jobs/view/1403430545\",\"https://www.linkedin.com/jobs/view/1538163636\",\"https://www.linkedin.com/jobs/view/1562365202\",\"https://www.linkedin.com/jobs/view/1477157586\",\"https://www.linkedin.com/jobs/view/1569125249\",\"https://www.linkedin.com/jobs/view/1574949142\",\"https://www.linkedin.com/jobs/view/1603770413\",\"https://www.linkedin.com/jobs/view/1607935703\",\"https://www.linkedin.com/jobs/view/1595539207\",\"https://www.linkedin.com/jobs/view/1565194586\",\"https://www.linkedin.com/jobs/view/1585153048\",\"https://www.linkedin.com/jobs/view/1562363746\",\"https://www.linkedin.com/jobs/view/1565197185\",\"https://www.linkedin.com/jobs/view/1545573124\",\"https://www.linkedin.com/jobs/view/1537513954\",\"https://www.linkedin.com/jobs/view/1545573125\",\"https://www.linkedin.com/jobs/view/1604732530\"',\n",
       " '\"https://www.linkedin.com/jobs/view/1603708622\",\"https://www.linkedin.com/jobs/view/1477156789\",\"https://www.linkedin.com/jobs/view/1565196306\",\"https://www.linkedin.com/jobs/view/1565192737\",\"https://www.linkedin.com/jobs/view/1573209878\",\"https://www.linkedin.com/jobs/view/1468986182\",\"https://www.linkedin.com/jobs/view/1604733504\",\"https://www.linkedin.com/jobs/view/1544712326\",\"https://www.linkedin.com/jobs/view/1366630221\",\"https://www.linkedin.com/jobs/view/1481702492\",\"https://www.linkedin.com/jobs/view/1579396617\",\"https://www.linkedin.com/jobs/view/1370242351\",\"https://www.linkedin.com/jobs/view/1565195632\",\"https://www.linkedin.com/jobs/view/1550489168\",\"https://www.linkedin.com/jobs/view/1606406692\",\"https://www.linkedin.com/jobs/view/1532985380\",\"https://www.linkedin.com/jobs/view/1475295186\",\"https://www.linkedin.com/jobs/view/1481703302\",\"https://www.linkedin.com/jobs/view/1585126426\",\"https://www.linkedin.com/jobs/view/1293022654\",\"https://www.linkedin.com/jobs/view/1579619765\",\"https://www.linkedin.com/jobs/view/1347385269\",\"https://www.linkedin.com/jobs/view/1597966390\",\"https://www.linkedin.com/jobs/view/1603768972\",\"https://www.linkedin.com/jobs/view/1585162369\"',\n",
       " '\"https://www.linkedin.com/jobs/view/1605211672\",\"https://www.linkedin.com/jobs/view/1475292261\",\"https://www.linkedin.com/jobs/view/1432001376\",\"https://www.linkedin.com/jobs/view/1603367049\",\"https://www.linkedin.com/jobs/view/1595790217\",\"https://www.linkedin.com/jobs/view/1608129916\",\"https://www.linkedin.com/jobs/view/1597962777\",\"https://www.linkedin.com/jobs/view/1597962954\",\"https://www.linkedin.com/jobs/view/1597962636\",\"https://www.linkedin.com/jobs/view/1597958539\",\"https://www.linkedin.com/jobs/view/1585143318\",\"https://www.linkedin.com/jobs/view/1585144089\",\"https://www.linkedin.com/jobs/view/1498531641\",\"https://www.linkedin.com/jobs/view/1591881816\",\"https://www.linkedin.com/jobs/view/1565193953\",\"https://www.linkedin.com/jobs/view/1605211187\",\"https://www.linkedin.com/jobs/view/1605819486\",\"https://www.linkedin.com/jobs/view/1544247777\",\"https://www.linkedin.com/jobs/view/1607970364\",\"https://www.linkedin.com/jobs/view/1585156274\",\"https://www.linkedin.com/jobs/view/1605823787\",\"https://www.linkedin.com/jobs/view/1565193805\",\"https://www.linkedin.com/jobs/view/1591901258\",\"https://www.linkedin.com/jobs/view/1565195353\"']"
      ]
     },
     "execution_count": 64,
     "metadata": {},
     "output_type": "execute_result"
    }
   ],
   "source": [
    "new"
   ]
  },
  {
   "cell_type": "code",
   "execution_count": null,
   "metadata": {},
   "outputs": [],
   "source": []
  }
 ],
 "metadata": {
  "kernelspec": {
   "display_name": "Python 3",
   "language": "python",
   "name": "python3"
  },
  "language_info": {
   "codemirror_mode": {
    "name": "ipython",
    "version": 3
   },
   "file_extension": ".py",
   "mimetype": "text/x-python",
   "name": "python",
   "nbconvert_exporter": "python",
   "pygments_lexer": "ipython3",
   "version": "3.7.3"
  }
 },
 "nbformat": 4,
 "nbformat_minor": 2
}
