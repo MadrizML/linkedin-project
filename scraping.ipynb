{
 "cells": [
  {
   "cell_type": "code",
   "execution_count": 24,
   "metadata": {},
   "outputs": [],
   "source": [
    "# imports:\n",
    "\n",
    "import time\n",
    "from selenium import webdriver\n",
    "from selenium.webdriver.common.keys import Keys\n",
    "from selenium.webdriver.common.action_chains import ActionChains"
   ]
  },
  {
   "cell_type": "code",
   "execution_count": 25,
   "metadata": {},
   "outputs": [],
   "source": [
    "# download ChromeDriver (and unzip): https://sites.google.com/a/chromium.org/chromedriver/downloads\n",
    "\n",
    "wdpath = '/home/carlosmd14/LinkedIn_Project/chromedriver_linux64/chromedriver'\n",
    "\n",
    "# specifies the path to the chromedriver.exe\n",
    "driver = webdriver.Chrome(wdpath)\n",
    "\n",
    "# driver.get method() will navigate to a page given by the URL address\n",
    "driver.get('https://www.linkedin.com')\n",
    "\n",
    "time.sleep(1)"
   ]
  },
  {
   "cell_type": "code",
   "execution_count": 26,
   "metadata": {},
   "outputs": [],
   "source": [
    "# recaptcha-checkbox-border"
   ]
  },
  {
   "cell_type": "code",
   "execution_count": 27,
   "metadata": {},
   "outputs": [],
   "source": [
    "# locate email form by_class_name\n",
    "username = driver.find_element_by_name('session_key')\n",
    "\n",
    "myemail = 'carlosmadrizd@gmail.com'\n",
    "\n",
    "# send_keys() to simulate key strokes\n",
    "\n",
    "username.send_keys(myemail)"
   ]
  },
  {
   "cell_type": "code",
   "execution_count": 28,
   "metadata": {},
   "outputs": [],
   "source": [
    "# locate password form by_class_name\n",
    "password = driver.find_element_by_name('session_password')\n",
    "\n",
    "mypass = open('linkedin_password.txt', 'r').read()\n",
    "\n",
    "# send_keys() to simulate key strokes\n",
    "password.send_keys(mypass)"
   ]
  },
  {
   "cell_type": "code",
   "execution_count": 29,
   "metadata": {},
   "outputs": [],
   "source": [
    "# locate submit button by_class_name\n",
    "log_in_button = driver.find_element_by_class_name('sign-in-form__submit-btn')\n",
    "\n",
    "# .click() to mimic button click\n",
    "log_in_button.click()"
   ]
  },
  {
   "cell_type": "code",
   "execution_count": 30,
   "metadata": {},
   "outputs": [],
   "source": [
    "time.sleep(4)\n",
    "# click on jobs button"
   ]
  },
  {
   "cell_type": "code",
   "execution_count": 31,
   "metadata": {},
   "outputs": [],
   "source": [
    "# locate jobs button by_class_name\n",
    "jobs_button = driver.find_element_by_id('jobs-nav-item')\n",
    "\n",
    "# .click() to mimic button click\n",
    "jobs_button.click()"
   ]
  },
  {
   "cell_type": "code",
   "execution_count": 32,
   "metadata": {},
   "outputs": [],
   "source": [
    "# locate job search box\n",
    "job_search = driver.find_elements_by_class_name('jobs-search-box__text-input')\n",
    "\n",
    "# specify job title:\n",
    "time.sleep(1)\n",
    "job_title = 'data analyst'\n",
    "\n",
    "# send_keys() to simulate key strokes\n",
    "job_search[0].send_keys(job_title)\n"
   ]
  },
  {
   "cell_type": "code",
   "execution_count": null,
   "metadata": {},
   "outputs": [],
   "source": []
  },
  {
   "cell_type": "code",
   "execution_count": 33,
   "metadata": {},
   "outputs": [],
   "source": [
    "# locate job location box\n",
    "# job_location = driver.find_element_by_class_name('jobs-search-box__text-input')\n",
    "\n",
    "job_search = driver.find_elements_by_class_name('jobs-search-box__text-input')\n",
    "\n",
    "\n",
    "# job_search.send_keys(Keys.TAB)\n",
    "\n",
    "# specify job title:\n",
    "job_city = 'Madrid'\n",
    "\n",
    "# send_keys() to simulate key strokes\n",
    "# job_location.send_keys(job_city)\n",
    "job_search[2].send_keys(job_city)"
   ]
  },
  {
   "cell_type": "code",
   "execution_count": 34,
   "metadata": {},
   "outputs": [],
   "source": [
    "# hit enter\n",
    "job_search[2].send_keys(Keys.ENTER)"
   ]
  },
  {
   "cell_type": "code",
   "execution_count": null,
   "metadata": {},
   "outputs": [],
   "source": [
    "# element_to_hover_over = driver.find_element_by_class_name('job-card-search__link-wrapper')\n",
    "\n",
    "# hover = ActionChains(driver).move_to_element(element_to_hover_over)\n",
    "# hover.perform()"
   ]
  },
  {
   "cell_type": "code",
   "execution_count": 18,
   "metadata": {},
   "outputs": [
    {
     "name": "stdout",
     "output_type": "stream",
     "text": [
      "https://www.linkedin.com/jobs/view/1546807963\n"
     ]
    }
   ],
   "source": [
    "job1 = driver.find_elements_by_class_name('job-card-search__link-wrapper')[0].get_attribute('href')[:45]\n",
    "\n",
    "print(job1)"
   ]
  },
  {
   "cell_type": "code",
   "execution_count": null,
   "metadata": {},
   "outputs": [],
   "source": []
  },
  {
   "cell_type": "code",
   "execution_count": 21,
   "metadata": {},
   "outputs": [
    {
     "name": "stdout",
     "output_type": "stream",
     "text": [
      "58\n"
     ]
    }
   ],
   "source": [
    "job1 = driver.find_elements_by_class_name('job-card-search__link-wrapper')\n",
    "\n",
    "print(len(job1))"
   ]
  },
  {
   "cell_type": "code",
   "execution_count": 36,
   "metadata": {},
   "outputs": [],
   "source": []
  },
  {
   "cell_type": "code",
   "execution_count": null,
   "metadata": {},
   "outputs": [],
   "source": []
  }
 ],
 "metadata": {
  "kernelspec": {
   "display_name": "Python 3",
   "language": "python",
   "name": "python3"
  },
  "language_info": {
   "codemirror_mode": {
    "name": "ipython",
    "version": 3
   },
   "file_extension": ".py",
   "mimetype": "text/x-python",
   "name": "python",
   "nbconvert_exporter": "python",
   "pygments_lexer": "ipython3",
   "version": "3.6.8"
  }
 },
 "nbformat": 4,
 "nbformat_minor": 2
}
