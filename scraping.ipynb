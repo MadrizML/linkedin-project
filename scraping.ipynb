{
 "cells": [
  {
   "cell_type": "code",
   "execution_count": 104,
   "metadata": {},
   "outputs": [],
   "source": [
    "# imports:\n",
    "\n",
    "import time\n",
    "from selenium import webdriver\n",
    "from selenium.webdriver.common.keys import Keys\n",
    "from selenium.webdriver.common.action_chains import ActionChains"
   ]
  },
  {
   "cell_type": "code",
   "execution_count": 105,
   "metadata": {},
   "outputs": [
    {
     "name": "stdout",
     "output_type": "stream",
     "text": [
      "Enter chromedriver's path: \n"
     ]
    }
   ],
   "source": [
    "# download ChromeDriver (and unzip): https://sites.google.com/a/chromium.org/chromedriver/downloads\n",
    "\n",
    "\n",
    "wdpath = input(\"Enter chromedriver's path: \") or '/home/carlosmd14/LinkedIn_Project/chromedriver_linux64/chromedriver'\n",
    "    \n",
    "\n",
    "# specifies the path to the chromedriver.exe\n",
    "driver = webdriver.Chrome(wdpath)\n",
    "\n",
    "# driver.get method() will navigate to a page given by the URL address\n",
    "driver.get('https://www.linkedin.com')\n",
    "\n",
    "time.sleep(1)"
   ]
  },
  {
   "cell_type": "code",
   "execution_count": 106,
   "metadata": {},
   "outputs": [],
   "source": [
    "# recaptcha-checkbox-border"
   ]
  },
  {
   "cell_type": "code",
   "execution_count": 107,
   "metadata": {},
   "outputs": [
    {
     "name": "stdout",
     "output_type": "stream",
     "text": [
      "Enter your email: \n"
     ]
    }
   ],
   "source": [
    "# locate email form by_class_name\n",
    "username = driver.find_element_by_name('session_key')\n",
    "\n",
    "my_email = input('Enter your email: ') or 'carlosmadrizd@gmail.com'\n",
    "\n",
    "# send_keys() to simulate key strokes\n",
    "\n",
    "username.send_keys(my_email)"
   ]
  },
  {
   "cell_type": "code",
   "execution_count": 108,
   "metadata": {},
   "outputs": [
    {
     "name": "stdout",
     "output_type": "stream",
     "text": [
      "Enter your password: \n"
     ]
    }
   ],
   "source": [
    "# locate password form by_class_name\n",
    "password = driver.find_element_by_name('session_password')\n",
    "\n",
    "mypass = input('Enter your password: ') or open('linkedin_password.txt', 'r').read()\n",
    "\n",
    "# send_keys() to simulate key strokes\n",
    "password.send_keys(mypass)"
   ]
  },
  {
   "cell_type": "code",
   "execution_count": 109,
   "metadata": {},
   "outputs": [],
   "source": [
    "# locate submit button by_class_name\n",
    "log_in_button = driver.find_element_by_class_name('sign-in-form__submit-btn')\n",
    "\n",
    "# .click() to mimic button click\n",
    "log_in_button.click()"
   ]
  },
  {
   "cell_type": "code",
   "execution_count": 110,
   "metadata": {},
   "outputs": [],
   "source": [
    "time.sleep(2)\n",
    "# click on jobs button"
   ]
  },
  {
   "cell_type": "code",
   "execution_count": 111,
   "metadata": {},
   "outputs": [],
   "source": [
    "# locate jobs button by_class_name\n",
    "jobs_button = driver.find_element_by_id('jobs-nav-item')\n",
    "\n",
    "# .click() to mimic button click\n",
    "jobs_button.click()"
   ]
  },
  {
   "cell_type": "code",
   "execution_count": 112,
   "metadata": {},
   "outputs": [
    {
     "name": "stdout",
     "output_type": "stream",
     "text": [
      "Enter job title: \n"
     ]
    }
   ],
   "source": [
    "# locate job search box\n",
    "job_search = driver.find_elements_by_class_name('jobs-search-box__text-input')\n",
    "\n",
    "# specify job title:\n",
    "time.sleep(1)\n",
    "job_title = input('Enter job title: ') or 'data analyst'\n",
    "\n",
    "# send_keys() to simulate key strokes\n",
    "job_search[0].send_keys(job_title)\n"
   ]
  },
  {
   "cell_type": "code",
   "execution_count": 113,
   "metadata": {},
   "outputs": [
    {
     "name": "stdout",
     "output_type": "stream",
     "text": [
      "Enter location: \n"
     ]
    }
   ],
   "source": [
    "# locate job location box\n",
    "# job_location = driver.find_element_by_class_name('jobs-search-box__text-input')\n",
    "\n",
    "job_search = driver.find_elements_by_class_name('jobs-search-box__text-input')\n",
    "\n",
    "\n",
    "# job_search.send_keys(Keys.TAB)\n",
    "\n",
    "# specify job title:\n",
    "job_city = input('Enter location: ') or 'Madrid'\n",
    "\n",
    "# send_keys() to simulate key strokes\n",
    "# job_location.send_keys(job_city)\n",
    "job_search[2].send_keys(job_city)"
   ]
  },
  {
   "cell_type": "code",
   "execution_count": 114,
   "metadata": {},
   "outputs": [],
   "source": [
    "# hit enter\n",
    "job_search[2].send_keys(Keys.ENTER)"
   ]
  },
  {
   "cell_type": "code",
   "execution_count": 115,
   "metadata": {},
   "outputs": [],
   "source": [
    "time.sleep(2)"
   ]
  },
  {
   "cell_type": "code",
   "execution_count": 116,
   "metadata": {},
   "outputs": [],
   "source": [
    "# Hover\n",
    "\n",
    "# element_to_hover_over = driver.find_element_by_class_name('job-card-search__link-wrapper')\n",
    "\n",
    "# hover = ActionChains(driver).move_to_element(element_to_hover_over)\n",
    "# hover.perform()"
   ]
  },
  {
   "cell_type": "code",
   "execution_count": 117,
   "metadata": {},
   "outputs": [],
   "source": [
    "i = 0\n",
    "while i<15:\n",
    "    scroll = driver.find_element_by_class_name('job-card-search__link-wrapper').send_keys(Keys.END)\n",
    "    time.sleep(1)\n",
    "    i+=1"
   ]
  },
  {
   "cell_type": "code",
   "execution_count": 118,
   "metadata": {},
   "outputs": [],
   "source": [
    "jobs_raw = driver.find_elements_by_class_name('job-card-search__link-wrapper')\n",
    "\n",
    "job_links = list(set([job.get_attribute('href')[:45] for job in jobs_raw]))"
   ]
  },
  {
   "cell_type": "code",
   "execution_count": 123,
   "metadata": {},
   "outputs": [
    {
     "name": "stdout",
     "output_type": "stream",
     "text": [
      "You scraped 199 job links.\n"
     ]
    }
   ],
   "source": [
    "print(f\"You scraped {len(job_links)} job links.\")"
   ]
  },
  {
   "cell_type": "code",
   "execution_count": 120,
   "metadata": {},
   "outputs": [],
   "source": [
    "with open(\"job_links.txt\", \"w\") as output:\n",
    "    output.write(str(job_links))"
   ]
  },
  {
   "cell_type": "code",
   "execution_count": null,
   "metadata": {},
   "outputs": [],
   "source": []
  }
 ],
 "metadata": {
  "kernelspec": {
   "display_name": "Python 3",
   "language": "python",
   "name": "python3"
  },
  "language_info": {
   "codemirror_mode": {
    "name": "ipython",
    "version": 3
   },
   "file_extension": ".py",
   "mimetype": "text/x-python",
   "name": "python",
   "nbconvert_exporter": "python",
   "pygments_lexer": "ipython3",
   "version": "3.6.8"
  }
 },
 "nbformat": 4,
 "nbformat_minor": 2
}
