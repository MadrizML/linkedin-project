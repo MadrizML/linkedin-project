{
 "cells": [
  {
   "cell_type": "code",
   "execution_count": 1,
   "metadata": {},
   "outputs": [],
   "source": [
    "# imports:\n",
    "\n",
    "import time\n",
    "from selenium import webdriver\n",
    "from selenium.webdriver.common.keys import Keys\n",
    "from selenium.webdriver.common.action_chains import ActionChains\n",
    "from selenium.webdriver.chrome.options import Options\n",
    "from getpass import getpass\n",
    "import csv\n",
    "from tqdm import tqdm"
   ]
  },
  {
   "cell_type": "code",
   "execution_count": null,
   "metadata": {},
   "outputs": [],
   "source": [
    "# download ChromeDriver (and unzip): https://sites.google.com/a/chromium.org/chromedriver/downloads\n",
    "\n",
    "chrome_options = Options()\n",
    "chrome_options.add_argument(\"--headless\")\n",
    "\n",
    "driver = webdriver.Chrome()\n",
    "# driver = webdriver.Chrome(options=chrome_options)\n",
    "\n",
    "# driver.get method() will navigate to a page given by the URL address\n",
    "driver.get('https://www.linkedin.com')\n",
    "\n",
    "time.sleep(1)"
   ]
  },
  {
   "cell_type": "code",
   "execution_count": null,
   "metadata": {},
   "outputs": [],
   "source": [
    "# recaptcha-checkbox-border"
   ]
  },
  {
   "cell_type": "code",
   "execution_count": null,
   "metadata": {},
   "outputs": [],
   "source": [
    "# locate email form by_class_name\n",
    "username = driver.find_element_by_name('session_key')\n",
    "\n",
    "# my_email = input('Enter your email: ') or 'carlosmadrizd@gmail.com'\n",
    "\n",
    "my_email = 'carlosmadrizd@gmail.com' if input('Are you Inês or Carlos?') == 'carlos' else 'ines.garcia263@gmail.com'\n",
    "\n",
    "# send_keys() to simulate key strokes\n",
    "\n",
    "username.send_keys(my_email)"
   ]
  },
  {
   "cell_type": "code",
   "execution_count": null,
   "metadata": {},
   "outputs": [],
   "source": [
    "# locate password form by_class_name\n",
    "password = driver.find_element_by_name('session_password')\n",
    "\n",
    "mypass = getpass('Enter your password: ')\n",
    "# mypass = open('linkedin_password.txt', 'r').read()\n",
    "\n",
    "# send_keys() to simulate key strokes\n",
    "password.send_keys(mypass)"
   ]
  },
  {
   "cell_type": "code",
   "execution_count": null,
   "metadata": {},
   "outputs": [],
   "source": [
    "# locate submit button by_class_name\n",
    "log_in_button = driver.find_element_by_class_name('sign-in-form__submit-btn')\n",
    "\n",
    "# .click() to mimic button click\n",
    "log_in_button.click()"
   ]
  },
  {
   "cell_type": "code",
   "execution_count": null,
   "metadata": {},
   "outputs": [],
   "source": [
    "time.sleep(2)\n",
    "# click on jobs button"
   ]
  },
  {
   "cell_type": "code",
   "execution_count": null,
   "metadata": {},
   "outputs": [],
   "source": [
    "# locate jobs button by_class_name\n",
    "jobs_button = driver.find_element_by_id('jobs-nav-item')\n",
    "\n",
    "# .click() to mimic button click\n",
    "jobs_button.click()"
   ]
  },
  {
   "cell_type": "code",
   "execution_count": null,
   "metadata": {},
   "outputs": [],
   "source": [
    "# locate job search box\n",
    "job_search = driver.find_elements_by_class_name('jobs-search-box__text-input')\n",
    "\n",
    "# specify job title:\n",
    "time.sleep(1)\n",
    "job_title = input('Enter job title (default is data_scientist): ').replace(\" \", \"_\") or 'data_scientist'\n",
    "\n",
    "# send_keys() to simulate key strokes\n",
    "job_search[0].send_keys(job_title)\n"
   ]
  },
  {
   "cell_type": "code",
   "execution_count": null,
   "metadata": {},
   "outputs": [],
   "source": [
    "# locate job location box\n",
    "# job_location = driver.find_element_by_class_name('jobs-search-box__text-input')\n",
    "\n",
    "job_search = driver.find_elements_by_class_name('jobs-search-box__text-input')\n",
    "\n",
    "\n",
    "# job_search.send_keys(Keys.TAB)\n",
    "\n",
    "# specify job title:\n",
    "job_city = input('Enter location (default is European Economic Area): ') or 'European Economic Area'\n",
    "\n",
    "# send_keys() to simulate key strokes\n",
    "# job_location.send_keys(job_city)\n",
    "job_search[2].send_keys(job_city)"
   ]
  },
  {
   "cell_type": "code",
   "execution_count": null,
   "metadata": {},
   "outputs": [],
   "source": [
    "# hit enter\n",
    "job_search[2].send_keys(Keys.ENTER)"
   ]
  },
  {
   "cell_type": "code",
   "execution_count": null,
   "metadata": {},
   "outputs": [],
   "source": [
    "time.sleep(3)"
   ]
  },
  {
   "cell_type": "code",
   "execution_count": null,
   "metadata": {},
   "outputs": [],
   "source": [
    "# Hover\n",
    "\n",
    "# element_to_hover_over = driver.find_element_by_class_name('job-card-search__link-wrapper')\n",
    "\n",
    "# hover = ActionChains(driver).move_to_element(element_to_hover_over)\n",
    "# hover.perform()"
   ]
  },
  {
   "cell_type": "code",
   "execution_count": null,
   "metadata": {},
   "outputs": [],
   "source": [
    "driver.find_elements"
   ]
  },
  {
   "cell_type": "code",
   "execution_count": null,
   "metadata": {
    "scrolled": true
   },
   "outputs": [],
   "source": [
    "i = 0\n",
    "\n",
    "scroll_limit = 65\n",
    "\n",
    "for i in tqdm(range(scroll_limit), desc='Scrolling down in the jobs search page', ncols=120 ,position=0, ascii=True):\n",
    "    scroll = driver.find_element_by_class_name('job-card-search__link-wrapper').send_keys(Keys.END)\n",
    "    time.sleep(1)\n",
    "    # print(i)"
   ]
  },
  {
   "cell_type": "code",
   "execution_count": null,
   "metadata": {
    "scrolled": true
   },
   "outputs": [],
   "source": [
    "jobs_raw = driver.find_elements_by_class_name('job-card-search__link-wrapper')\n",
    "\n",
    "job_links = list(set([job.get_attribute('href')[:45] for job in jobs_raw]))"
   ]
  },
  {
   "cell_type": "code",
   "execution_count": null,
   "metadata": {},
   "outputs": [],
   "source": [
    "print(f\"You scraped {len(job_links)} {job_title.replace('_', ' ')} job links in {job_city}. \" \\\n",
    "      f\"It\\'s gonna be stored in {job_title}_links.txt\")"
   ]
  },
  {
   "cell_type": "code",
   "execution_count": null,
   "metadata": {},
   "outputs": [],
   "source": [
    "with open(\"job_links/\" + job_title.replace(' ', '_') + \"_\" + job_city.replace(' ', '_') + \"_links.csv\", 'w', newline='') as myfile:\n",
    "     wr = csv.writer(myfile, quoting=csv.QUOTE_ALL)\n",
    "     wr.writerow(job_links)"
   ]
  },
  {
   "cell_type": "code",
   "execution_count": null,
   "metadata": {},
   "outputs": [],
   "source": [
    "driver.quit()"
   ]
  },
  {
   "cell_type": "code",
   "execution_count": null,
   "metadata": {},
   "outputs": [],
   "source": [
    "# jupyter nbconvert --to script scraping.ipynb"
   ]
  },
  {
   "cell_type": "code",
   "execution_count": null,
   "metadata": {},
   "outputs": [],
   "source": [
    "from logout_scrap_job_pages import scrap_job_pages\n",
    "scrap_job_pages()"
   ]
  }
 ],
 "metadata": {
  "kernelspec": {
   "display_name": "Python 3",
   "language": "python",
   "name": "python3"
  },
  "language_info": {
   "codemirror_mode": {
    "name": "ipython",
    "version": 3
   },
   "file_extension": ".py",
   "mimetype": "text/x-python",
   "name": "python",
   "nbconvert_exporter": "python",
   "pygments_lexer": "ipython3",
   "version": "3.7.3"
  }
 },
 "nbformat": 4,
 "nbformat_minor": 2
}
