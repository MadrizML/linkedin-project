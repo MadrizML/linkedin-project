{
 "cells": [
  {
   "cell_type": "code",
   "execution_count": 34,
   "metadata": {},
   "outputs": [],
   "source": [
    "import pandas as pd\n",
    "import glob\n",
    "\n",
    "def clean_csv(path):\n",
    "    print('Cleaning: ' + path)\n",
    "    df = pd.read_csv(path)\n",
    "    df.drop_duplicates(keep='last', inplace=True)\n",
    "    df.reset_index(drop=True, inplace=True)\n",
    "    df.to_csv(path, index=False)\n",
    "\n",
    "for path in glob.glob('job_links/*.csv'):\n",
    "    clean_csv(path)\n",
    "\n",
    "path = 'linkedin_search.csv'\n",
    "    \n",
    "clean_csv(path)"
   ]
  },
  {
   "cell_type": "code",
   "execution_count": null,
   "metadata": {},
   "outputs": [],
   "source": []
  }
 ],
 "metadata": {
  "kernelspec": {
   "display_name": "Python 3",
   "language": "python",
   "name": "python3"
  },
  "language_info": {
   "codemirror_mode": {
    "name": "ipython",
    "version": 3
   },
   "file_extension": ".py",
   "mimetype": "text/x-python",
   "name": "python",
   "nbconvert_exporter": "python",
   "pygments_lexer": "ipython3",
   "version": "3.6.8"
  }
 },
 "nbformat": 4,
 "nbformat_minor": 2
}
