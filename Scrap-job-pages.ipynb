{
 "cells": [
  {
   "cell_type": "code",
   "execution_count": 1,
   "metadata": {},
   "outputs": [],
   "source": [
    "# import libraries\n",
    "from selenium import webdriver\n",
    "from parsel import Selector\n",
    "import time\n",
    "import numpy as np\n",
    "import pandas as pd\n",
    "import csv\n",
    "import random"
   ]
  },
  {
   "cell_type": "code",
   "execution_count": 2,
   "metadata": {},
   "outputs": [],
   "source": [
    "driver = webdriver.Chrome('/home/inrx/Desktop/chromedriver')"
   ]
  },
  {
   "cell_type": "code",
   "execution_count": 4,
   "metadata": {},
   "outputs": [],
   "source": [
    "path = '/home/inrx/Ironhack/TA/job-search/linkedin-project/data_analyst_links.csv'\n",
    "\n",
    "with open(path, 'r') as f:\n",
    "    reader = csv.reader(f)\n",
    "    your_list = list(reader)\n",
    "\n",
    "page_list_raw = your_list[0]\n",
    "page_list = page_list_raw[1:10]"
   ]
  },
  {
   "cell_type": "code",
   "execution_count": 5,
   "metadata": {},
   "outputs": [
    {
     "data": {
      "text/plain": [
       "['https://www.linkedin.com/jobs/view/1298845523',\n",
       " 'https://www.linkedin.com/jobs/view/1587380182',\n",
       " 'https://www.linkedin.com/jobs/view/1494670350',\n",
       " 'https://www.linkedin.com/jobs/view/1401773710',\n",
       " 'https://www.linkedin.com/jobs/view/1547499297',\n",
       " 'https://www.linkedin.com/jobs/view/1591054793',\n",
       " 'https://www.linkedin.com/jobs/view/1537218937',\n",
       " 'https://www.linkedin.com/jobs/view/1538119337',\n",
       " 'https://www.linkedin.com/jobs/view/1576814951']"
      ]
     },
     "execution_count": 5,
     "metadata": {},
     "output_type": "execute_result"
    }
   ],
   "source": [
    "page_list"
   ]
  },
  {
   "cell_type": "code",
   "execution_count": 4,
   "metadata": {
    "scrolled": false
   },
   "outputs": [
    {
     "name": "stdout",
     "output_type": "stream",
     "text": [
      "1\n",
      "2\n",
      "3\n",
      "4\n",
      "5\n",
      "6\n",
      "7\n",
      "8\n",
      "9\n"
     ]
    }
   ],
   "source": [
    "# Create for loop to scrap data from job posting pages\n",
    "number = 0\n",
    "\n",
    "for page in page_list:\n",
    "    job_path = page\n",
    "    driver.get(job_path)\n",
    "\n",
    "    # sleep to avoid crawler detection\n",
    "    time.sleep(round(random.uniform(12,15), 2))\n",
    "    try:\n",
    "        # click \"see more\" to retrieve all the information from the job posting \n",
    "        see_more = driver.find_element_by_xpath(\"//button[@data-control-name='see_more']\")\n",
    "        see_more.click()\n",
    "\n",
    "        # sleep to avoid crawler detection\n",
    "        time.sleep(round(random.uniform(2,5), 2))\n",
    "\n",
    "        # scrap job title\n",
    "        job_title = driver.find_element_by_class_name('jobs-top-card__job-title')\n",
    "        job_title_final = job_title.text\n",
    "\n",
    "        # scrap company name \n",
    "        try:\n",
    "            company_raw = driver.find_element_by_class_name('jobs-top-card__company-url')\n",
    "            company_final = company_raw.text\n",
    "\n",
    "        except:\n",
    "            company_raw = driver.find_elements_by_class_name('jobs-top-card__company-info')\n",
    "            company = [x.text for x in company_raw]\n",
    "            company_final = [x.split('\\n') for x in company][0][1]\n",
    "            location_final = [x.split('\\n') for x in company][0][3]\n",
    "\n",
    "        # scrap company link\n",
    "        try:\n",
    "            company_link_raw = driver.find_element_by_class_name(\"jobs-top-card__company-url\")\n",
    "            company_link_final = company_link_raw.get_attribute('href')\n",
    "        except:\n",
    "            company_link_final = np.NaN\n",
    "\n",
    "        # scrap number of applicants and post date\n",
    "        applications_raw = driver.find_elements_by_xpath(\"//p[@class='mt1 full-width flex-grow-1 t-14 t-black--light']\")\n",
    "        applications_final = [x.text for x in applications_raw]\n",
    "        ## obtain only the post date and number of applicant, since the date retrieve has all the information\n",
    "        applications_final_split = [x.split('\\n') for x in applications_final][0]\n",
    "        ### obtain post date and number of applicants\n",
    "        post_date, applications = applications_final_split[1],applications_final_split[3]\n",
    "\n",
    "        # Srap the full description of the job\n",
    "        role = driver.find_element_by_class_name(\"jobs-box__html-content\")\n",
    "        role_final = role.text\n",
    "\n",
    "        # Since the information changes from page to page we create a try except rule\n",
    "        ## Scrap Location\n",
    "        if location_final == '':\n",
    "            try:\n",
    "                location_raw = driver.find_element_by_xpath(\"//span[@class='jobs-top-card__bullet']\")\n",
    "                location_final = location_raw.text\n",
    "            except:\n",
    "                location_raw = driver.find_elements_by_class_name(\"jobs-top-card__bullet\")\n",
    "                location_final = [x.text for x in location_raw][0]\n",
    "\n",
    "\n",
    "        ## Scrap skills\n",
    "        try:\n",
    "            skills = driver.find_element_by_xpath(\"//ul[@class='jobs-ppc-criteria__list jobs-ppc-criteria__list--skills jobs-ppc-criteria__list--is-last js-criteria-skills list-style-none']\")\n",
    "            skills_final = skills.text\n",
    "        except:\n",
    "            ## If non existant fill with NaN\n",
    "            skills_final = np.NaN\n",
    "\n",
    "\n",
    "        ## Scrap job poster and link\n",
    "        try:\n",
    "            job_poster = driver.find_element_by_class_name(\"jobs-poster__name\")\n",
    "            job_poster_final = job_poster.text\n",
    "            job_poster_link = driver.find_element_by_xpath(\"//a[@data-control-name='jobdetails_profile_poster']\")\n",
    "            job_poster_link_final = job_poster_link.get_attribute('href')\n",
    "        except:\n",
    "            ## If non existant fill with NaN\n",
    "            job_poster_final = np.NaN\n",
    "            job_poster_link_final = np.NaN\n",
    "\n",
    "        # Create a row with all the scrapped info to append to the .csv file\n",
    "        row = [job_title_final, \n",
    "               company_final, \n",
    "               company_link_final, \n",
    "               post_date, \n",
    "               applications, \n",
    "               location_final, \n",
    "               skills_final, \n",
    "               role_final, \n",
    "               job_poster_final, \n",
    "               job_poster_link_final,\n",
    "               job_path]\n",
    "\n",
    "\n",
    "        # Append each row in the end of the existing .csv file\n",
    "        with open('linkedin_search.csv','a',newline='') as f:\n",
    "            writer=csv.writer(f)\n",
    "            writer.writerow(row)\n",
    "    except:\n",
    "        pass\n",
    "\n",
    "#    number += 1\n",
    "#    print (number)"
   ]
  },
  {
   "cell_type": "code",
   "execution_count": null,
   "metadata": {},
   "outputs": [],
   "source": []
  }
 ],
 "metadata": {
  "kernelspec": {
   "display_name": "Python 3",
   "language": "python",
   "name": "python3"
  },
  "language_info": {
   "codemirror_mode": {
    "name": "ipython",
    "version": 3
   },
   "file_extension": ".py",
   "mimetype": "text/x-python",
   "name": "python",
   "nbconvert_exporter": "python",
   "pygments_lexer": "ipython3",
   "version": "3.7.3"
  }
 },
 "nbformat": 4,
 "nbformat_minor": 2
}
