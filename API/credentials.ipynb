{
 "cells": [
  {
   "cell_type": "code",
   "execution_count": 2,
   "metadata": {},
   "outputs": [],
   "source": [
    "import requests"
   ]
  },
  {
   "cell_type": "code",
   "execution_count": null,
   "metadata": {},
   "outputs": [],
   "source": [
    "CONSUMER_KEY = '9pux1XcwXXXXXXXXXX'     # This is api_key\n",
    "CONSUMER_SECRET = 'brtXoXEXXXXXXXXXXXXX'   # This is secret_key\n",
    "\n",
    "USER_TOKEN = '27138ae8-XXXXXXXXXXXXXXXXXXXXXXXXXXXXXXb'   # This is oauth_token\n",
    "USER_SECRET = 'ca103e23-XXXXXXXXXXXXXXXXXXXXXXXX7bba512625e'   # This is oauth_secret\n",
    "RETURN_URL = 'http://localhost:8000'\n",
    "\n",
    "from linkedin import linkedin\n",
    "from oauthlib import *\n",
    "\n",
    "# Define CONSUMER_KEY, CONSUMER_SECRET,  \n",
    "# USER_TOKEN, and USER_SECRET from the credentials \n",
    "# provided in your LinkedIn application\n",
    "\n",
    "# Instantiate the developer authentication class\n",
    "\n",
    "authentication = linkedin.LinkedInDeveloperAuthentication(CONSUMER_KEY, CONSUMER_SECRET, \n",
    "                                                      USER_TOKEN, USER_SECRET, \n",
    "                                                      RETURN_URL, linkedin.PERMISSIONS.enums.values())\n",
    "\n",
    "# Pass it in to the app...\n",
    "\n",
    "application = linkedin.LinkedInApplication(authentication)\n",
    "\n",
    "# Use the app....\n",
    "\n",
    "g = application.get_profile()\n",
    "print g"
   ]
  },
  {
   "cell_type": "code",
   "execution_count": 5,
   "metadata": {},
   "outputs": [],
   "source": [
    "html = requests.get(\"https://www.linkedin.com/oauth/v2/authorization\",\n",
    "                   params = {'response_type':'code','client_id':'776aa8r5nmxlmp',\n",
    "                          'redirect_uri':'http://localhost:8000',\n",
    "                          'state':'somestring'})"
   ]
  },
  {
   "cell_type": "code",
   "execution_count": 7,
   "metadata": {},
   "outputs": [
    {
     "data": {
      "text/plain": [
       "'https://www.linkedin.com/uas/login?session_redirect=%2Foauth%2Fv2%2Flogin-success%3Fapp_id%3D15065273%26auth_type%3DAC%26flow%3D%257B%2522creationTime%2522%253A1572457304959%252C%2522state%2522%253A%2522somestring%2522%252C%2522scope%2522%253Anull%252C%2522appId%2522%253A15065273%252C%2522authorizationType%2522%253A%2522OAUTH2_AUTHORIZATION_CODE%2522%252C%2522redirectUri%2522%253A%2522http%253A%252F%252Flocalhost%253A8000%2522%252C%2522externalBindingKey%2522%253Anull%252C%2522loginHint%2522%253Anull%252C%2522codeChallenge%2522%253Anull%252C%2522codeChallengeMethod%2522%253Anull%252C%2522currentStage%2522%253A%2522LOGIN_SUCCESS%2522%252C%2522currentSubStage%2522%253A0%252C%2522flowHint%2522%253Anull%252C%2522authFlowName%2522%253A%2522generic-permission-list%2522%257D&fromSignIn=1&trk=oauth&cancel_redirect=%2Foauth%2Fv2%2Flogin-cancel%3Fapp_id%3D15065273%26auth_type%3DAC%26flow%3D%257B%2522creationTime%2522%253A1572457304959%252C%2522state%2522%253A%2522somestring%2522%252C%2522scope%2522%253Anull%252C%2522appId%2522%253A15065273%252C%2522authorizationType%2522%253A%2522OAUTH2_AUTHORIZATION_CODE%2522%252C%2522redirectUri%2522%253A%2522http%253A%252F%252Flocalhost%253A8000%2522%252C%2522externalBindingKey%2522%253Anull%252C%2522loginHint%2522%253Anull%252C%2522codeChallenge%2522%253Anull%252C%2522codeChallengeMethod%2522%253Anull%252C%2522currentStage%2522%253A%2522LOGIN_SUCCESS%2522%252C%2522currentSubStage%2522%253A0%252C%2522flowHint%2522%253Anull%252C%2522authFlowName%2522%253A%2522generic-permission-list%2522%257D'"
      ]
     },
     "execution_count": 7,
     "metadata": {},
     "output_type": "execute_result"
    }
   ],
   "source": [
    "html.url"
   ]
  },
  {
   "cell_type": "code",
   "execution_count": null,
   "metadata": {},
   "outputs": [],
   "source": [
    "AQT2fVv23PhWI1IhvvXw7McV7tF7Tc8Eh_-yFF7er3Ou3aPC7PpzpXdrIJfbwWrloC98lwoEFP1ZiX2jKhV1Fmuj5FSLrr0ciNv3Kh7M07AdsMN-Wt7ar6DES22YUcE_QBjHaLTrNA2FUUutZJe7bwd19TC27k-c5UBBbmlcLF54e5McyRmB8sbQwisCwA"
   ]
  },
  {
   "cell_type": "code",
   "execution_count": 8,
   "metadata": {},
   "outputs": [],
   "source": [
    "token = requests.post('https://www.linkedin.com/oauth/v2/accessToken',\n",
    "             data = {'grant_type':'authorization_code','code':'AQT2fVv23PhWI1IhvvXw7McV7tF7Tc8Eh_-yFF7er3Ou3aPC7PpzpXdrIJfbwWrloC98lwoEFP1ZiX2jKhV1Fmuj5FSLrr0ciNv3Kh7M07AdsMN-Wt7ar6DES22YUcE_QBjHaLTrNA2FUUutZJe7bwd19TC27k-c5UBBbmlcLF54e5McyRmB8sbQwisCwA',\n",
    "                    'redirect_uri':'http://localhost:8000',\n",
    "                    'client_id':'776aa8r5nmxlmp','client_secret':'QkDtfKfIlbpXIvio'})"
   ]
  },
  {
   "cell_type": "code",
   "execution_count": 9,
   "metadata": {},
   "outputs": [
    {
     "data": {
      "text/plain": [
       "b'{\"access_token\":\"AQVtSMmYEz3CFH3pkBc9hdZTI-8dphT37Vg5qA10EAcb0SibKWhnUjT9y2wYgeN0MpaLkm9OERMEFZ6KHcTBJdsYqgOf5bUYWzjZWSDzTPUclPluWalBMIxQVeBj2We_sguyaNHVPc7WcUd-HfZ68JX3tknvdHDUGO-bPjrdGB8CCNyANnkxFdPlx_jGtQi7v3ujjTuSntDLxOuyTG5do_SCe25xsls-O4NSehf3joPWwnVezA_DQxvPF10ASXjHzM3Nl9TqRWsjOkYwkJxuoKgTV51ToeUpWYr6IbvzmIgmjZwT-3dbnr_y6QsThlFhiHEcceUxBe5-JuO-PoTYYI6GPd5E-w\",\"expires_in\":5183999}'"
      ]
     },
     "execution_count": 9,
     "metadata": {},
     "output_type": "execute_result"
    }
   ],
   "source": [
    "token.content"
   ]
  },
  {
   "cell_type": "code",
   "execution_count": null,
   "metadata": {},
   "outputs": [],
   "source": [
    "AQVtSMmYEz3CFH3pkBc9hdZTI-8dphT37Vg5qA10EAcb0SibKWhnUjT9y2wYgeN0MpaLkm9OERMEFZ6KHcTBJdsYqgOf5bUYWzjZWSDzTPUclPluWalBMIxQVeBj2We_sguyaNHVPc7WcUd-HfZ68JX3tknvdHDUGO-bPjrdGB8CCNyANnkxFdPlx_jGtQi7v3ujjTuSntDLxOuyTG5do_SCe25xsls-O4NSehf3joPWwnVezA_DQxvPF10ASXjHzM3Nl9TqRWsjOkYwkJxuoKgTV51ToeUpWYr6IbvzmIgmjZwT-3dbnr_y6QsThlFhiHEcceUxBe5-JuO-PoTYYI6GPd5E-w"
   ]
  },
  {
   "cell_type": "code",
   "execution_count": 10,
   "metadata": {},
   "outputs": [],
   "source": [
    "headers = {'x-li-format': 'json', 'Content-Type': 'application/json'}\n",
    "params = {'oauth2_access_token': 'AQVtSMmYEz3CFH3pkBc9hdZTI-8dphT37Vg5qA10EAcb0SibKWhnUjT9y2wYgeN0MpaLkm9OERMEFZ6KHcTBJdsYqgOf5bUYWzjZWSDzTPUclPluWalBMIxQVeBj2We_sguyaNHVPc7WcUd-HfZ68JX3tknvdHDUGO-bPjrdGB8CCNyANnkxFdPlx_jGtQi7v3ujjTuSntDLxOuyTG5do_SCe25xsls-O4NSehf3joPWwnVezA_DQxvPF10ASXjHzM3Nl9TqRWsjOkYwkJxuoKgTV51ToeUpWYr6IbvzmIgmjZwT-3dbnr_y6QsThlFhiHEcceUxBe5-JuO-PoTYYI6GPd5E-w'}"
   ]
  },
  {
   "cell_type": "code",
   "execution_count": 11,
   "metadata": {},
   "outputs": [],
   "source": [
    "html = requests.get(\"https://api.linkedin.com/v1/people/~\",headers=headers,params = params)\n",
    "\n"
   ]
  },
  {
   "cell_type": "code",
   "execution_count": 12,
   "metadata": {},
   "outputs": [
    {
     "data": {
      "text/plain": [
       "'https://api.linkedin.com/v1/people/~?oauth2_access_token=AQVtSMmYEz3CFH3pkBc9hdZTI-8dphT37Vg5qA10EAcb0SibKWhnUjT9y2wYgeN0MpaLkm9OERMEFZ6KHcTBJdsYqgOf5bUYWzjZWSDzTPUclPluWalBMIxQVeBj2We_sguyaNHVPc7WcUd-HfZ68JX3tknvdHDUGO-bPjrdGB8CCNyANnkxFdPlx_jGtQi7v3ujjTuSntDLxOuyTG5do_SCe25xsls-O4NSehf3joPWwnVezA_DQxvPF10ASXjHzM3Nl9TqRWsjOkYwkJxuoKgTV51ToeUpWYr6IbvzmIgmjZwT-3dbnr_y6QsThlFhiHEcceUxBe5-JuO-PoTYYI6GPd5E-w'"
      ]
     },
     "execution_count": 12,
     "metadata": {},
     "output_type": "execute_result"
    }
   ],
   "source": [
    "html.url"
   ]
  },
  {
   "cell_type": "code",
   "execution_count": 2,
   "metadata": {},
   "outputs": [
    {
     "name": "stdout",
     "output_type": "stream",
     "text": [
      "Go to the following link in your browser: \n",
      "\n",
      "https://api.linkedin.com/oauth/v1/authorize?oauth_token=77--ef4592c6-34c3-4b43-833d-a7cb548581ef\n"
     ]
    },
    {
     "ename": "KeyboardInterrupt",
     "evalue": "",
     "output_type": "error",
     "traceback": [
      "\u001b[0;31m---------------------------------------------------------------------------\u001b[0m",
      "\u001b[0;31mKeyboardInterrupt\u001b[0m                         Traceback (most recent call last)",
      "\u001b[0;32m~/.local/lib/python3.6/site-packages/ipykernel/kernelbase.py\u001b[0m in \u001b[0;36m_input_request\u001b[0;34m(self, prompt, ident, parent, password)\u001b[0m\n\u001b[1;32m    884\u001b[0m             \u001b[0;32mtry\u001b[0m\u001b[0;34m:\u001b[0m\u001b[0;34m\u001b[0m\u001b[0;34m\u001b[0m\u001b[0m\n\u001b[0;32m--> 885\u001b[0;31m                 \u001b[0mident\u001b[0m\u001b[0;34m,\u001b[0m \u001b[0mreply\u001b[0m \u001b[0;34m=\u001b[0m \u001b[0mself\u001b[0m\u001b[0;34m.\u001b[0m\u001b[0msession\u001b[0m\u001b[0;34m.\u001b[0m\u001b[0mrecv\u001b[0m\u001b[0;34m(\u001b[0m\u001b[0mself\u001b[0m\u001b[0;34m.\u001b[0m\u001b[0mstdin_socket\u001b[0m\u001b[0;34m,\u001b[0m \u001b[0;36m0\u001b[0m\u001b[0;34m)\u001b[0m\u001b[0;34m\u001b[0m\u001b[0;34m\u001b[0m\u001b[0m\n\u001b[0m\u001b[1;32m    886\u001b[0m             \u001b[0;32mexcept\u001b[0m \u001b[0mException\u001b[0m\u001b[0;34m:\u001b[0m\u001b[0;34m\u001b[0m\u001b[0;34m\u001b[0m\u001b[0m\n",
      "\u001b[0;32m~/.local/lib/python3.6/site-packages/jupyter_client/session.py\u001b[0m in \u001b[0;36mrecv\u001b[0;34m(self, socket, mode, content, copy)\u001b[0m\n\u001b[1;32m    802\u001b[0m         \u001b[0;32mtry\u001b[0m\u001b[0;34m:\u001b[0m\u001b[0;34m\u001b[0m\u001b[0;34m\u001b[0m\u001b[0m\n\u001b[0;32m--> 803\u001b[0;31m             \u001b[0mmsg_list\u001b[0m \u001b[0;34m=\u001b[0m \u001b[0msocket\u001b[0m\u001b[0;34m.\u001b[0m\u001b[0mrecv_multipart\u001b[0m\u001b[0;34m(\u001b[0m\u001b[0mmode\u001b[0m\u001b[0;34m,\u001b[0m \u001b[0mcopy\u001b[0m\u001b[0;34m=\u001b[0m\u001b[0mcopy\u001b[0m\u001b[0;34m)\u001b[0m\u001b[0;34m\u001b[0m\u001b[0;34m\u001b[0m\u001b[0m\n\u001b[0m\u001b[1;32m    804\u001b[0m         \u001b[0;32mexcept\u001b[0m \u001b[0mzmq\u001b[0m\u001b[0;34m.\u001b[0m\u001b[0mZMQError\u001b[0m \u001b[0;32mas\u001b[0m \u001b[0me\u001b[0m\u001b[0;34m:\u001b[0m\u001b[0;34m\u001b[0m\u001b[0;34m\u001b[0m\u001b[0m\n",
      "\u001b[0;32m~/.local/lib/python3.6/site-packages/zmq/sugar/socket.py\u001b[0m in \u001b[0;36mrecv_multipart\u001b[0;34m(self, flags, copy, track)\u001b[0m\n\u001b[1;32m    474\u001b[0m         \"\"\"\n\u001b[0;32m--> 475\u001b[0;31m         \u001b[0mparts\u001b[0m \u001b[0;34m=\u001b[0m \u001b[0;34m[\u001b[0m\u001b[0mself\u001b[0m\u001b[0;34m.\u001b[0m\u001b[0mrecv\u001b[0m\u001b[0;34m(\u001b[0m\u001b[0mflags\u001b[0m\u001b[0;34m,\u001b[0m \u001b[0mcopy\u001b[0m\u001b[0;34m=\u001b[0m\u001b[0mcopy\u001b[0m\u001b[0;34m,\u001b[0m \u001b[0mtrack\u001b[0m\u001b[0;34m=\u001b[0m\u001b[0mtrack\u001b[0m\u001b[0;34m)\u001b[0m\u001b[0;34m]\u001b[0m\u001b[0;34m\u001b[0m\u001b[0;34m\u001b[0m\u001b[0m\n\u001b[0m\u001b[1;32m    476\u001b[0m         \u001b[0;31m# have first part already, only loop while more to receive\u001b[0m\u001b[0;34m\u001b[0m\u001b[0;34m\u001b[0m\u001b[0;34m\u001b[0m\u001b[0m\n",
      "\u001b[0;32mzmq/backend/cython/socket.pyx\u001b[0m in \u001b[0;36mzmq.backend.cython.socket.Socket.recv\u001b[0;34m()\u001b[0m\n",
      "\u001b[0;32mzmq/backend/cython/socket.pyx\u001b[0m in \u001b[0;36mzmq.backend.cython.socket.Socket.recv\u001b[0;34m()\u001b[0m\n",
      "\u001b[0;32mzmq/backend/cython/socket.pyx\u001b[0m in \u001b[0;36mzmq.backend.cython.socket._recv_copy\u001b[0;34m()\u001b[0m\n",
      "\u001b[0;32m~/.local/lib/python3.6/site-packages/zmq/backend/cython/checkrc.pxd\u001b[0m in \u001b[0;36mzmq.backend.cython.checkrc._check_rc\u001b[0;34m()\u001b[0m\n",
      "\u001b[0;31mKeyboardInterrupt\u001b[0m: ",
      "\nDuring handling of the above exception, another exception occurred:\n",
      "\u001b[0;31mKeyboardInterrupt\u001b[0m                         Traceback (most recent call last)",
      "\u001b[0;32m<ipython-input-2-3b678609cf2c>\u001b[0m in \u001b[0;36m<module>\u001b[0;34m\u001b[0m\n\u001b[1;32m     20\u001b[0m \u001b[0maccepted\u001b[0m\u001b[0;34m=\u001b[0m\u001b[0;34m'n'\u001b[0m\u001b[0;34m\u001b[0m\u001b[0;34m\u001b[0m\u001b[0m\n\u001b[1;32m     21\u001b[0m \u001b[0;32mwhile\u001b[0m \u001b[0maccepted\u001b[0m\u001b[0;34m.\u001b[0m\u001b[0mlower\u001b[0m\u001b[0;34m(\u001b[0m\u001b[0;34m)\u001b[0m \u001b[0;34m==\u001b[0m \u001b[0;34m'n'\u001b[0m \u001b[0;34m:\u001b[0m\u001b[0;34m\u001b[0m\u001b[0;34m\u001b[0m\u001b[0m\n\u001b[0;32m---> 22\u001b[0;31m     \u001b[0maccepted\u001b[0m \u001b[0;34m=\u001b[0m \u001b[0minput\u001b[0m\u001b[0;34m(\u001b[0m\u001b[0;34m'Have you authorized me? (y/n)'\u001b[0m\u001b[0;34m)\u001b[0m\u001b[0;34m\u001b[0m\u001b[0;34m\u001b[0m\u001b[0m\n\u001b[0m\u001b[1;32m     23\u001b[0m \u001b[0moauth_verifier\u001b[0m \u001b[0;34m=\u001b[0m \u001b[0minput\u001b[0m\u001b[0;34m(\u001b[0m\u001b[0;34m'What is the PIN?'\u001b[0m\u001b[0;34m)\u001b[0m\u001b[0;34m\u001b[0m\u001b[0;34m\u001b[0m\u001b[0m\n\u001b[1;32m     24\u001b[0m \u001b[0;34m\u001b[0m\u001b[0m\n",
      "\u001b[0;32m~/.local/lib/python3.6/site-packages/ipykernel/kernelbase.py\u001b[0m in \u001b[0;36mraw_input\u001b[0;34m(self, prompt)\u001b[0m\n\u001b[1;32m    858\u001b[0m             \u001b[0mself\u001b[0m\u001b[0;34m.\u001b[0m\u001b[0m_parent_ident\u001b[0m\u001b[0;34m,\u001b[0m\u001b[0;34m\u001b[0m\u001b[0;34m\u001b[0m\u001b[0m\n\u001b[1;32m    859\u001b[0m             \u001b[0mself\u001b[0m\u001b[0;34m.\u001b[0m\u001b[0m_parent_header\u001b[0m\u001b[0;34m,\u001b[0m\u001b[0;34m\u001b[0m\u001b[0;34m\u001b[0m\u001b[0m\n\u001b[0;32m--> 860\u001b[0;31m             \u001b[0mpassword\u001b[0m\u001b[0;34m=\u001b[0m\u001b[0;32mFalse\u001b[0m\u001b[0;34m,\u001b[0m\u001b[0;34m\u001b[0m\u001b[0;34m\u001b[0m\u001b[0m\n\u001b[0m\u001b[1;32m    861\u001b[0m         )\n\u001b[1;32m    862\u001b[0m \u001b[0;34m\u001b[0m\u001b[0m\n",
      "\u001b[0;32m~/.local/lib/python3.6/site-packages/ipykernel/kernelbase.py\u001b[0m in \u001b[0;36m_input_request\u001b[0;34m(self, prompt, ident, parent, password)\u001b[0m\n\u001b[1;32m    888\u001b[0m             \u001b[0;32mexcept\u001b[0m \u001b[0mKeyboardInterrupt\u001b[0m\u001b[0;34m:\u001b[0m\u001b[0;34m\u001b[0m\u001b[0;34m\u001b[0m\u001b[0m\n\u001b[1;32m    889\u001b[0m                 \u001b[0;31m# re-raise KeyboardInterrupt, to truncate traceback\u001b[0m\u001b[0;34m\u001b[0m\u001b[0;34m\u001b[0m\u001b[0;34m\u001b[0m\u001b[0m\n\u001b[0;32m--> 890\u001b[0;31m                 \u001b[0;32mraise\u001b[0m \u001b[0mKeyboardInterrupt\u001b[0m\u001b[0;34m\u001b[0m\u001b[0;34m\u001b[0m\u001b[0m\n\u001b[0m\u001b[1;32m    891\u001b[0m             \u001b[0;32melse\u001b[0m\u001b[0;34m:\u001b[0m\u001b[0;34m\u001b[0m\u001b[0;34m\u001b[0m\u001b[0m\n\u001b[1;32m    892\u001b[0m                 \u001b[0;32mbreak\u001b[0m\u001b[0;34m\u001b[0m\u001b[0;34m\u001b[0m\u001b[0m\n",
      "\u001b[0;31mKeyboardInterrupt\u001b[0m: "
     ]
    }
   ],
   "source": [
    "import oauth2 as oauth\n",
    "import urllib\n",
    "\n",
    "consumer_key = '' #from Linkedin site\n",
    "consumer_secret = '' #from Linkedin site\n",
    "consumer = oauth.Consumer('77fbpmj6h670ce', 'gAZyjxFOmaRaPdyo')\n",
    "client = oauth.Client(consumer)\n",
    "\n",
    "request_token_url = 'https://api.linkedin.com/uas/oauth/requestToken'\n",
    "resp, content = client.request(request_token_url, \"POST\")\n",
    "if resp['status'] != '200' :\n",
    "    raise Exception('Invalid response %s.' % resp['status'])\n",
    "content_utf8 = str(content,'utf-8')\n",
    "request_token = dict(urllib.parse.parse_qsl(content_utf8))\n",
    "authorize_url = request_token['xoauth_request_auth_url']\n",
    "\n",
    "print('Go to the following link in your browser:', \"\\n\")\n",
    "print(authorize_url + '?oauth_token=' + request_token['oauth_token'])\n",
    "\n",
    "accepted='n'\n",
    "while accepted.lower() == 'n' :\n",
    "    accepted = input('Have you authorized me? (y/n)')\n",
    "oauth_verifier = input('What is the PIN?')\n",
    "\n",
    "access_token_url = 'https://api.linkedin.com/uas/oauth/accessToken'\n",
    "token = oauth.Token(request_token['oauth_token'], request_token['oauth_token_secret'])\n",
    "token.set_verifier(oauth_verifier)\n",
    "client = oauth.Client(consumer, token)\n",
    "resp, content = client.request(access_token_url, 'POST')\n",
    "content8 = str(content,'utf-8')\n",
    "access_token = dict(urllib.parse.parse_qsl(content8))\n",
    "\n",
    "print('Access Token:', \"\\n\")\n",
    "print('- oauth_token        = ' + access_token['oauth_token']+'\\n')\n",
    "print('- oauth_token_secret = ' + access_token['oauth_token_secret'])\n",
    "print('You may now access protected resources using the access tokens above.')"
   ]
  },
  {
   "cell_type": "code",
   "execution_count": null,
   "metadata": {},
   "outputs": [],
   "source": [
    "https://api.linkedin.com/v1/people/~?format=json\n"
   ]
  }
 ],
 "metadata": {
  "kernelspec": {
   "display_name": "Python 3",
   "language": "python",
   "name": "python3"
  },
  "language_info": {
   "codemirror_mode": {
    "name": "ipython",
    "version": 3
   },
   "file_extension": ".py",
   "mimetype": "text/x-python",
   "name": "python",
   "nbconvert_exporter": "python",
   "pygments_lexer": "ipython3",
   "version": "3.6.8"
  }
 },
 "nbformat": 4,
 "nbformat_minor": 2
}
