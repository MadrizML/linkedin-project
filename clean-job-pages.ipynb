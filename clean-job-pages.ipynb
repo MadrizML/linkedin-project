{
 "cells": [
  {
   "cell_type": "code",
   "execution_count": 1,
   "metadata": {},
   "outputs": [],
   "source": [
    "import pandas as pd\n",
    "import nltk\n",
    "from nltk.corpus import stopwords\n",
    "from langdetect import detect\n",
    "from nltk.tokenize import sent_tokenize, word_tokenize \n",
    "\n",
    "from nltk.stem import PorterStemmer\n",
    "from nltk.stem import WordNetLemmatizer\n",
    "\n",
    "from nltk.stem.snowball import SnowballStemmer"
   ]
  },
  {
   "cell_type": "code",
   "execution_count": 2,
   "metadata": {},
   "outputs": [],
   "source": [
    "import unidecode\n",
    "def convert_unidecode(x):\n",
    "    return unidecode.unidecode(x)"
   ]
  },
  {
   "cell_type": "code",
   "execution_count": 3,
   "metadata": {},
   "outputs": [],
   "source": [
    "# remove ponctuation\n",
    "def remove_punct1(x):\n",
    "    p = ['!', '(', ')', '-', '[', ']', '{', '}', ';', ':', \"'\", '\"', '\\\\', ',', '<', '>', '.', '/', '?', '@', '#', '$', '%', '^', '&', '*', '_', '~']\n",
    "    return ' '.join([string for string in x.split(' ') if string not in p])"
   ]
  },
  {
   "cell_type": "code",
   "execution_count": 4,
   "metadata": {},
   "outputs": [],
   "source": [
    "# remove ponctuation\n",
    "def remove_punct2(x):\n",
    "    import re\n",
    "    return re.sub(r'[^\\w]|[^\\w] ', ' ', x)"
   ]
  },
  {
   "cell_type": "code",
   "execution_count": 5,
   "metadata": {},
   "outputs": [],
   "source": [
    "# Define stop words to clean text (job description)\n",
    "stopwords_en = set(stopwords.words('english'))\n",
    "\n",
    "stopwords_pt = set(stopwords.words('portuguese'))\n",
    "\n",
    "stopwords_es = set(stopwords.words('spanish'))"
   ]
  },
  {
   "cell_type": "code",
   "execution_count": 6,
   "metadata": {},
   "outputs": [],
   "source": [
    "def remove_stop_words(x):\n",
    "    return ' '.join([word.lower() for word in x.split() \\\n",
    "                   if word.lower() not in (stopwords_en)]) if detect(x)=='en'\\\n",
    "    else ' '.join([word.lower() for word in x.split() \\\n",
    "                   if word.lower() not in (stopwords_pt)]) if detect(x)=='pt'\\\n",
    "    else ' '.join([word.lower() for word in x.split() \\\n",
    "                   if word.lower() not in (stopwords_es)])"
   ]
  },
  {
   "cell_type": "code",
   "execution_count": 7,
   "metadata": {},
   "outputs": [],
   "source": [
    "def remove_stop_words1(x):\n",
    "    stop_words_concat = list(stopwords_en)+list(stopwords_es)+list(stopwords_pt)\n",
    "    return ' '.join([word.lower() for word in x.split() \\\n",
    "                   if word.lower() not in stop_words_concat])"
   ]
  },
  {
   "cell_type": "code",
   "execution_count": 8,
   "metadata": {
    "scrolled": false
   },
   "outputs": [],
   "source": [
    "def stem_snowball(x):\n",
    "    if detect(x) == 'pt':\n",
    "        stemmer = SnowballStemmer('portuguese')\n",
    "        tokens = nltk.word_tokenize(x)\n",
    "        return [stemmer.stem(token) for token in tokens]\n",
    "    if detect(x) == 'en':\n",
    "        stemmer = SnowballStemmer('english')\n",
    "        tokens = nltk.word_tokenize(x)\n",
    "        return [stemmer.stem(token) for token in tokens]\n",
    "    if detect(x) == 'es':\n",
    "        stemmer = SnowballStemmer('spanish')\n",
    "        tokens = nltk.word_tokenize(x)\n",
    "        return [stemmer.stem(token) for token in tokens]"
   ]
  },
  {
   "cell_type": "code",
   "execution_count": 9,
   "metadata": {},
   "outputs": [],
   "source": [
    "def bigrams(x):\n",
    "    #Tokens = nltk.word_tokenize(x)\n",
    "    output = list(nltk.bigrams(x))\n",
    "    return output"
   ]
  },
  {
   "cell_type": "code",
   "execution_count": 10,
   "metadata": {},
   "outputs": [],
   "source": [
    "def trigram(x):\n",
    "    #Tokens = nltk.word_tokenize(x)\n",
    "    output = list(nltk.trigrams(x))\n",
    "    return output"
   ]
  },
  {
   "cell_type": "code",
   "execution_count": 11,
   "metadata": {},
   "outputs": [],
   "source": [
    "def token(x):\n",
    "    output = nltk.word_tokenize(x)\n",
    "    return output"
   ]
  },
  {
   "cell_type": "code",
   "execution_count": 12,
   "metadata": {},
   "outputs": [
    {
     "name": "stdout",
     "output_type": "stream",
     "text": [
      "(91, 11)\n"
     ]
    },
    {
     "data": {
      "text/html": [
       "<div>\n",
       "<style scoped>\n",
       "    .dataframe tbody tr th:only-of-type {\n",
       "        vertical-align: middle;\n",
       "    }\n",
       "\n",
       "    .dataframe tbody tr th {\n",
       "        vertical-align: top;\n",
       "    }\n",
       "\n",
       "    .dataframe thead th {\n",
       "        text-align: right;\n",
       "    }\n",
       "</style>\n",
       "<table border=\"1\" class=\"dataframe\">\n",
       "  <thead>\n",
       "    <tr style=\"text-align: right;\">\n",
       "      <th></th>\n",
       "      <th>title</th>\n",
       "      <th>company</th>\n",
       "      <th>company-link</th>\n",
       "      <th>post-date</th>\n",
       "      <th>applications</th>\n",
       "      <th>location</th>\n",
       "      <th>skills</th>\n",
       "      <th>role-description</th>\n",
       "      <th>job-poster</th>\n",
       "      <th>job-poster-profile</th>\n",
       "      <th>link</th>\n",
       "    </tr>\n",
       "  </thead>\n",
       "  <tbody>\n",
       "    <tr>\n",
       "      <th>0</th>\n",
       "      <td>Data Analyst - Product Insights</td>\n",
       "      <td>Farfetch</td>\n",
       "      <td>https://www.linkedin.com/company/farfetch.com/...</td>\n",
       "      <td>Posted 6 days ago</td>\n",
       "      <td>Be among the first 25 applicants</td>\n",
       "      <td>Porto Area, Portugal</td>\n",
       "      <td>Match\\nData Visualization\\nMatch\\nSQL\\nMatch\\n...</td>\n",
       "      <td>THE ROLE\\nYou'll do analysis and tests to infl...</td>\n",
       "      <td>Rafaela Carvalho 2nd</td>\n",
       "      <td>https://www.linkedin.com/in/rafaelaascarvalho/</td>\n",
       "      <td>https://www.linkedin.com/jobs/view/1526861678/</td>\n",
       "    </tr>\n",
       "    <tr>\n",
       "      <th>1</th>\n",
       "      <td>Data Analyst (m/f)</td>\n",
       "      <td>Linde</td>\n",
       "      <td>https://www.linkedin.com/company/linde/life/</td>\n",
       "      <td>Posted 6 days ago</td>\n",
       "      <td>93 applicants</td>\n",
       "      <td>Porto e Região, Portugal</td>\n",
       "      <td>NaN</td>\n",
       "      <td>Mission\\nAnalyse data in order to influence pr...</td>\n",
       "      <td>NaN</td>\n",
       "      <td>NaN</td>\n",
       "      <td>https://www.linkedin.com/jobs/view/1538168934/</td>\n",
       "    </tr>\n",
       "    <tr>\n",
       "      <th>2</th>\n",
       "      <td>Business Analyst</td>\n",
       "      <td>Axians</td>\n",
       "      <td>https://www.linkedin.com/company/axians/life/</td>\n",
       "      <td>Posted 3 days ago</td>\n",
       "      <td>Be among the first 25 applicants</td>\n",
       "      <td>Lisbon, PT</td>\n",
       "      <td>NaN</td>\n",
       "      <td>A Axians é a marca do grupo Vinci Energies ded...</td>\n",
       "      <td>NaN</td>\n",
       "      <td>NaN</td>\n",
       "      <td>https://www.linkedin.com/jobs/view/1585144716/</td>\n",
       "    </tr>\n",
       "    <tr>\n",
       "      <th>3</th>\n",
       "      <td>Data Analyst</td>\n",
       "      <td>KWAN</td>\n",
       "      <td>https://www.linkedin.com/company/kwan-love-res...</td>\n",
       "      <td>Posted 1 week ago</td>\n",
       "      <td>Be among the first 25 applicants</td>\n",
       "      <td>Lisbon, PT</td>\n",
       "      <td>NaN</td>\n",
       "      <td>We are currently looking forward to hire an en...</td>\n",
       "      <td>NaN</td>\n",
       "      <td>NaN</td>\n",
       "      <td>https://www.linkedin.com/jobs/view/1579616329/</td>\n",
       "    </tr>\n",
       "    <tr>\n",
       "      <th>4</th>\n",
       "      <td>Junior Analyst - Data Analytics - Reading</td>\n",
       "      <td>EY</td>\n",
       "      <td>https://www.linkedin.com/company/ernstandyoung...</td>\n",
       "      <td>Posted 2 weeks ago</td>\n",
       "      <td>Be among the first 25 applicants</td>\n",
       "      <td>Reading, GB</td>\n",
       "      <td>NaN</td>\n",
       "      <td>Junior Analyst – Assurance, Data &amp; Analytics -...</td>\n",
       "      <td>NaN</td>\n",
       "      <td>NaN</td>\n",
       "      <td>https://www.linkedin.com/jobs/view/1506528365/</td>\n",
       "    </tr>\n",
       "  </tbody>\n",
       "</table>\n",
       "</div>"
      ],
      "text/plain": [
       "                                       title   company  \\\n",
       "0            Data Analyst - Product Insights  Farfetch   \n",
       "1                         Data Analyst (m/f)     Linde   \n",
       "2                           Business Analyst    Axians   \n",
       "3                               Data Analyst      KWAN   \n",
       "4  Junior Analyst - Data Analytics - Reading        EY   \n",
       "\n",
       "                                        company-link           post-date  \\\n",
       "0  https://www.linkedin.com/company/farfetch.com/...   Posted 6 days ago   \n",
       "1       https://www.linkedin.com/company/linde/life/   Posted 6 days ago   \n",
       "2      https://www.linkedin.com/company/axians/life/   Posted 3 days ago   \n",
       "3  https://www.linkedin.com/company/kwan-love-res...   Posted 1 week ago   \n",
       "4  https://www.linkedin.com/company/ernstandyoung...  Posted 2 weeks ago   \n",
       "\n",
       "                       applications                  location  \\\n",
       "0  Be among the first 25 applicants      Porto Area, Portugal   \n",
       "1                     93 applicants  Porto e Região, Portugal   \n",
       "2  Be among the first 25 applicants                Lisbon, PT   \n",
       "3  Be among the first 25 applicants                Lisbon, PT   \n",
       "4  Be among the first 25 applicants               Reading, GB   \n",
       "\n",
       "                                              skills  \\\n",
       "0  Match\\nData Visualization\\nMatch\\nSQL\\nMatch\\n...   \n",
       "1                                                NaN   \n",
       "2                                                NaN   \n",
       "3                                                NaN   \n",
       "4                                                NaN   \n",
       "\n",
       "                                    role-description            job-poster  \\\n",
       "0  THE ROLE\\nYou'll do analysis and tests to infl...  Rafaela Carvalho 2nd   \n",
       "1  Mission\\nAnalyse data in order to influence pr...                   NaN   \n",
       "2  A Axians é a marca do grupo Vinci Energies ded...                   NaN   \n",
       "3  We are currently looking forward to hire an en...                   NaN   \n",
       "4  Junior Analyst – Assurance, Data & Analytics -...                   NaN   \n",
       "\n",
       "                               job-poster-profile  \\\n",
       "0  https://www.linkedin.com/in/rafaelaascarvalho/   \n",
       "1                                             NaN   \n",
       "2                                             NaN   \n",
       "3                                             NaN   \n",
       "4                                             NaN   \n",
       "\n",
       "                                             link  \n",
       "0  https://www.linkedin.com/jobs/view/1526861678/  \n",
       "1  https://www.linkedin.com/jobs/view/1538168934/  \n",
       "2  https://www.linkedin.com/jobs/view/1585144716/  \n",
       "3  https://www.linkedin.com/jobs/view/1579616329/  \n",
       "4  https://www.linkedin.com/jobs/view/1506528365/  "
      ]
     },
     "execution_count": 12,
     "metadata": {},
     "output_type": "execute_result"
    }
   ],
   "source": [
    "df = pd.read_csv('/home/inrx/Ironhack/TA/job-search/linkedin_search.csv')\n",
    "print (df.shape)\n",
    "df.head()"
   ]
  },
  {
   "cell_type": "code",
   "execution_count": 13,
   "metadata": {},
   "outputs": [],
   "source": [
    "df = df.drop_duplicates(keep='last')\n",
    "df = df.reset_index(drop=True)"
   ]
  },
  {
   "cell_type": "code",
   "execution_count": 14,
   "metadata": {},
   "outputs": [],
   "source": [
    "df = df.replace(to_replace=r'\\n', value=' ', regex=True)"
   ]
  },
  {
   "cell_type": "code",
   "execution_count": 15,
   "metadata": {},
   "outputs": [],
   "source": [
    "df['role-description'] = df['role-description'].apply(remove_punct1)\n",
    "df['role-description'] = df['role-description'].apply(remove_punct2)"
   ]
  },
  {
   "cell_type": "code",
   "execution_count": 17,
   "metadata": {},
   "outputs": [],
   "source": [
    "df['role-description'] = df['role-description'].apply(lambda x: x.lower())"
   ]
  },
  {
   "cell_type": "code",
   "execution_count": 21,
   "metadata": {},
   "outputs": [],
   "source": [
    "# Clean the text according remove the stopwords according to the language of the job post\n",
    "df['role_description1'] = df['role-description'].apply(remove_stop_words)\n",
    "\n",
    "# Clean the text according remove the stopwords regardless the language of the job post\n",
    "df['role_description1'] = df['role_description1'].apply(remove_stop_words1)"
   ]
  },
  {
   "cell_type": "code",
   "execution_count": 19,
   "metadata": {},
   "outputs": [],
   "source": [
    "df['role-description'] = df['role-description'].apply(convert_unidecode)"
   ]
  },
  {
   "cell_type": "code",
   "execution_count": 23,
   "metadata": {},
   "outputs": [],
   "source": [
    "df['role_description1'] = df['role_description1'].apply(stem_snowball)"
   ]
  },
  {
   "cell_type": "code",
   "execution_count": 25,
   "metadata": {
    "scrolled": false
   },
   "outputs": [],
   "source": [
    "df['role_des_bigrams'] = df['role_description1'].apply(bigrams)"
   ]
  },
  {
   "cell_type": "code",
   "execution_count": 26,
   "metadata": {},
   "outputs": [],
   "source": [
    "df['role_des_trigrams'] = df['role_description1'].apply(trigram)"
   ]
  },
  {
   "cell_type": "code",
   "execution_count": 27,
   "metadata": {},
   "outputs": [],
   "source": [
    "trigrams = {tup:lst.count(tup) for lst in df['role_des_trigrams'] for tup in lst}\n",
    "\n",
    "trigrams = {k: v for k, v in trigrams.items() if v > 2}\n",
    "\n",
    "trigrams_sorted = sorted(trigrams.items(), key=lambda kv: kv[1], reverse=True)"
   ]
  },
  {
   "cell_type": "code",
   "execution_count": 28,
   "metadata": {},
   "outputs": [],
   "source": [
    "bigrams = {tup:lst.count(tup) for lst in df['role_des_bigrams'] for tup in lst}\n",
    "\n",
    "bigrams = {k: v for k, v in bigrams.items() if v > 2}\n",
    "\n",
    "bigrams_sorted = sorted(bigrams.items(), key=lambda kv: kv[1], reverse=True)"
   ]
  },
  {
   "cell_type": "code",
   "execution_count": 29,
   "metadata": {},
   "outputs": [],
   "source": [
    "tokens = {tup:lst.count(tup) for lst in df['role_description1'] for tup in lst}\n",
    "\n",
    "tokens = {k: v for k, v in tokens.items() if v > 5}\n",
    "\n",
    "tokens_sorted = sorted(tokens.items(), key=lambda kv: kv[1], reverse=True)"
   ]
  },
  {
   "cell_type": "code",
   "execution_count": 30,
   "metadata": {
    "scrolled": false
   },
   "outputs": [
    {
     "data": {
      "text/plain": [
       "[(('master', 'data'), 9),\n",
       " (('00', 'h'), 8),\n",
       " (('oper', 'research'), 7),\n",
       " (('gobiern', 'dat'), 7),\n",
       " (('research', 'analyst'), 6),\n",
       " (('emea', 'soc'), 6),\n",
       " (('control', 'manag'), 6),\n",
       " (('deb', 'ten'), 6),\n",
       " (('credit', 'risk'), 6),\n",
       " (('r', 'solut'), 5),\n",
       " (('portfolio', 'manag'), 5),\n",
       " (('project', 'manag'), 5),\n",
       " (('complianc', 'risk'), 5),\n",
       " (('risk', 'control'), 5),\n",
       " (('finanz', 'personal'), 5),\n",
       " (('secur', 'incid'), 5),\n",
       " (('risk', 'tool'), 5),\n",
       " (('client', 'servic'), 4),\n",
       " (('drive', 'healthcar'), 4),\n",
       " (('healthcar', 'forward'), 4),\n",
       " (('dat', 'scienc'), 4),\n",
       " (('event', 'monitor'), 4),\n",
       " (('potenti', 'secur'), 4),\n",
       " (('use', 'servic'), 4),\n",
       " (('technolog', 'driven'), 4),\n",
       " (('bi', 'data'), 3),\n",
       " (('data', 'mine'), 3),\n",
       " (('3', 'anos'), 3),\n",
       " (('softwar', 'develop'), 3),\n",
       " (('data', 'scientist'), 3),\n",
       " (('data', 'analyst'), 3),\n",
       " (('market', 'analyt'), 3),\n",
       " (('center', 'excel'), 3),\n",
       " (('english', 'proactiv'), 3),\n",
       " (('oper', 'problem'), 3),\n",
       " (('data', 'sourc'), 3),\n",
       " (('data', 'wareh'), 3),\n",
       " (('high', 'level'), 3),\n",
       " (('contextu', 'metric'), 3),\n",
       " (('key', 'risk'), 3),\n",
       " (('busi', 'analyst'), 3),\n",
       " (('partner', 'custom'), 3),\n",
       " (('experi', 'use'), 3),\n",
       " (('work', 'knowledg'), 3),\n",
       " (('acceler', 'career'), 3),\n",
       " (('career', 'brambl'), 3),\n",
       " (('resourc', 'assign'), 3),\n",
       " (('law', 'regul'), 3),\n",
       " (('analysi', 'abl'), 3),\n",
       " (('abl', 'gather'), 3),\n",
       " (('gather', 'inform'), 3),\n",
       " (('inform', 'key'), 3),\n",
       " (('risk', 'identif'), 3),\n",
       " (('identif', 'develop'), 3),\n",
       " (('develop', 'effect'), 3),\n",
       " (('effect', 'control'), 3),\n",
       " (('control', 'techniqu'), 3),\n",
       " (('techniqu', 'product'), 3),\n",
       " (('process', 'regul'), 3),\n",
       " (('regul', 'relat'), 3),\n",
       " (('relat', 'retail'), 3),\n",
       " (('retail', 'wholesal'), 3),\n",
       " (('wholesal', 'bank'), 3),\n",
       " (('team', 'play'), 3),\n",
       " (('play', 'capabl'), 3),\n",
       " (('capabl', 'work'), 3),\n",
       " (('team', 'also'), 3),\n",
       " (('also', 'independ'), 3),\n",
       " (('independ', 'need'), 3),\n",
       " (('need', 'deliv'), 3),\n",
       " (('deliv', 'within'), 3),\n",
       " (('within', 'fast'), 3),\n",
       " (('pace', 'high'), 3),\n",
       " (('high', 'demand'), 3),\n",
       " (('demand', 'environ'), 3),\n",
       " (('environ', 'balanc'), 3),\n",
       " (('balanc', 'multipl'), 3),\n",
       " (('multipl', 'prioriti'), 3),\n",
       " (('prioriti', 'communic'), 3),\n",
       " (('skill', 'written'), 3),\n",
       " (('proactiv', 'creativ'), 3),\n",
       " (('role', 'complianc'), 3),\n",
       " (('manag', 'function'), 3),\n",
       " (('function', 'within'), 3),\n",
       " (('within', 'financi'), 3),\n",
       " (('financi', 'sector'), 3),\n",
       " (('sector', 'consult'), 3),\n",
       " (('firm', 'least'), 3),\n",
       " (('least', '6'), 3),\n",
       " (('work', 'product'), 3),\n",
       " (('med', 'result'), 3),\n",
       " (('ten', 'experient'), 3),\n",
       " (('integracion', 'desarroll'), 3),\n",
       " (('desarroll', 'proces'), 3),\n",
       " (('dat', 'necesari'), 3),\n",
       " (('arquitectur', 'tecnolog'), 3),\n",
       " (('servici', 'solucion'), 3),\n",
       " (('senior', 'leadership'), 3),\n",
       " (('product', 'team'), 3),\n",
       " (('monitor', 'tier'), 3),\n",
       " (('tier', '2'), 3),\n",
       " (('2', 'analyst'), 3),\n",
       " (('bi', 'busi'), 3),\n",
       " (('take', 'part'), 3),\n",
       " (('zon', 'cuzc'), 3),\n",
       " (('incorporacion', 'direct'), 3),\n",
       " (('amazon', 'web'), 3),\n",
       " (('web', 'servic'), 3),\n",
       " (('polici', 'chang'), 3),\n",
       " (('chang', 'credit'), 3),\n",
       " (('insight', 'client'), 3),\n",
       " (('open', 'sourc'), 3),\n",
       " (('ing', 'analyt'), 3)]"
      ]
     },
     "execution_count": 30,
     "metadata": {},
     "output_type": "execute_result"
    }
   ],
   "source": [
    "bigrams_sorted"
   ]
  },
  {
   "cell_type": "code",
   "execution_count": 31,
   "metadata": {},
   "outputs": [
    {
     "data": {
      "text/plain": [
       "[(('oper', 'research', 'analyst'), 6),\n",
       " (('complianc', 'risk', 'control'), 5),\n",
       " (('risk', 'control', 'manag'), 5),\n",
       " (('credit', 'risk', 'tool'), 5),\n",
       " (('drive', 'healthcar', 'forward'), 4),\n",
       " (('potenti', 'secur', 'incid'), 4),\n",
       " (('data', 'analysi', 'abl'), 3),\n",
       " (('analysi', 'abl', 'gather'), 3),\n",
       " (('abl', 'gather', 'inform'), 3),\n",
       " (('gather', 'inform', 'key'), 3),\n",
       " (('inform', 'key', 'risk'), 3),\n",
       " (('key', 'risk', 'identif'), 3),\n",
       " (('risk', 'identif', 'develop'), 3),\n",
       " (('identif', 'develop', 'effect'), 3),\n",
       " (('develop', 'effect', 'control'), 3),\n",
       " (('effect', 'control', 'techniqu'), 3),\n",
       " (('control', 'techniqu', 'product'), 3),\n",
       " (('techniqu', 'product', 'process'), 3),\n",
       " (('product', 'process', 'regul'), 3),\n",
       " (('process', 'regul', 'relat'), 3),\n",
       " (('regul', 'relat', 'retail'), 3),\n",
       " (('relat', 'retail', 'wholesal'), 3),\n",
       " (('retail', 'wholesal', 'bank'), 3),\n",
       " (('team', 'play', 'capabl'), 3),\n",
       " (('play', 'capabl', 'work'), 3),\n",
       " (('capabl', 'work', 'intern'), 3),\n",
       " (('intern', 'team', 'also'), 3),\n",
       " (('team', 'also', 'independ'), 3),\n",
       " (('also', 'independ', 'need'), 3),\n",
       " (('independ', 'need', 'deliv'), 3),\n",
       " (('need', 'deliv', 'within'), 3),\n",
       " (('deliv', 'within', 'fast'), 3),\n",
       " (('within', 'fast', 'pace'), 3),\n",
       " (('fast', 'pace', 'high'), 3),\n",
       " (('pace', 'high', 'demand'), 3),\n",
       " (('high', 'demand', 'environ'), 3),\n",
       " (('demand', 'environ', 'balanc'), 3),\n",
       " (('environ', 'balanc', 'multipl'), 3),\n",
       " (('balanc', 'multipl', 'prioriti'), 3),\n",
       " (('multipl', 'prioriti', 'communic'), 3),\n",
       " (('prioriti', 'communic', 'present'), 3),\n",
       " (('present', 'skill', 'written'), 3),\n",
       " (('skill', 'written', 'spoken'), 3),\n",
       " (('spoken', 'english', 'proactiv'), 3),\n",
       " (('english', 'proactiv', 'creativ'), 3),\n",
       " (('compar', 'role', 'complianc'), 3),\n",
       " (('role', 'complianc', 'risk'), 3),\n",
       " (('control', 'manag', 'function'), 3),\n",
       " (('manag', 'function', 'within'), 3),\n",
       " (('function', 'within', 'financi'), 3),\n",
       " (('within', 'financi', 'sector'), 3),\n",
       " (('financi', 'sector', 'consult'), 3),\n",
       " (('sector', 'consult', 'firm'), 3),\n",
       " (('consult', 'firm', 'least'), 3),\n",
       " (('firm', 'least', '6'), 3),\n",
       " (('least', '6', 'year'), 3),\n",
       " (('6', 'year', 'experi'), 3),\n",
       " (('deb', 'ten', 'experient'), 3),\n",
       " (('event', 'monitor', 'tier'), 3),\n",
       " (('tier', '2', 'analyst'), 3),\n",
       " (('bi', 'busi', 'analyst'), 3),\n",
       " (('amazon', 'web', 'servic'), 3),\n",
       " (('polici', 'chang', 'credit'), 3),\n",
       " (('chang', 'credit', 'risk'), 3),\n",
       " (('bi', 'data', 'analyst'), 3)]"
      ]
     },
     "execution_count": 31,
     "metadata": {},
     "output_type": "execute_result"
    }
   ],
   "source": [
    "trigrams_sorted"
   ]
  },
  {
   "cell_type": "code",
   "execution_count": 32,
   "metadata": {
    "scrolled": false
   },
   "outputs": [
    {
     "data": {
      "text/plain": [
       "[('busi', 15),\n",
       " ('data', 14),\n",
       " ('criteo', 13),\n",
       " ('complianc', 12),\n",
       " ('iqvia', 11),\n",
       " ('healthcar', 10),\n",
       " ('nexthink', 10),\n",
       " ('gobiern', 9),\n",
       " ('brambl', 9),\n",
       " ('bank', 9),\n",
       " ('fever', 9),\n",
       " ('product', 8),\n",
       " ('mcafe', 8),\n",
       " ('h', 8),\n",
       " ('support', 7),\n",
       " ('technic', 7),\n",
       " ('soc', 7),\n",
       " ('credit', 7),\n",
       " ('fashion', 6),\n",
       " ('experi', 6),\n",
       " ('good', 6),\n",
       " ('peopl', 6),\n",
       " ('high', 6),\n",
       " ('ingenieri', 6),\n",
       " ('ing', 6),\n",
       " ('kelist', 6),\n",
       " ('incid', 6)]"
      ]
     },
     "execution_count": 32,
     "metadata": {},
     "output_type": "execute_result"
    }
   ],
   "source": [
    "tokens_sorted"
   ]
  },
  {
   "cell_type": "code",
   "execution_count": 35,
   "metadata": {},
   "outputs": [
    {
     "data": {
      "image/png": "[encoded data removed]",
      "text/plain": [
       "<Figure size 432x288 with 1 Axes>"
      ]
     },
     "metadata": {
      "needs_background": "light"
     },
     "output_type": "display_data"
    }
   ],
   "source": [
    "tokens_x =list(zip(*tokens_sorted))[0]\n",
    "tokens_y =list(zip(*tokens_sorted))[1]\n",
    "\n",
    "import matplotlib.pyplot as plt\n",
    "#%matplotlib notebook\n",
    "plt.plot(tokens_x, tokens_y);\n",
    "plt.xticks(rotation=90)\n",
    "plt.show()\n",
    "#plt.ylim(5,15);"
   ]
  },
  {
   "cell_type": "raw",
   "metadata": {},
   "source": [
    "def lemmatizer(x):\n",
    "    wordnet_lemmatizer = WordNetLemmatizer()\n",
    "    return wordnet_lemmatizer.lemmatize(x)"
   ]
  },
  {
   "cell_type": "raw",
   "metadata": {},
   "source": [
    "df['role_description1'] = df['role_description1'].apply(lemmatizer)\n",
    "df['role_description1'][0]"
   ]
  },
  {
   "cell_type": "code",
   "execution_count": null,
   "metadata": {},
   "outputs": [],
   "source": []
  }
 ],
 "metadata": {
  "kernelspec": {
   "display_name": "Python 3",
   "language": "python",
   "name": "python3"
  },
  "language_info": {
   "codemirror_mode": {
    "name": "ipython",
    "version": 3
   },
   "file_extension": ".py",
   "mimetype": "text/x-python",
   "name": "python",
   "nbconvert_exporter": "python",
   "pygments_lexer": "ipython3",
   "version": "3.7.3"
  }
 },
 "nbformat": 4,
 "nbformat_minor": 2
}
